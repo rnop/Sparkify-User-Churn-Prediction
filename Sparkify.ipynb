{
 "cells": [
  {
   "cell_type": "markdown",
   "metadata": {},
   "source": [
    "# Sparkify Project\n",
    "\n",
    "### Project Overview\n",
    "A common challenge for data scientists is predicting customer churn. Understanding and predicting whether or not a user will churn is beneficial to the business because they can take actions to combat this and improve their business performance. Customer churn analysis also benefits the users because businesses will try to improve customer services and experiences based on insights gained from data science.\n",
    "\n",
    "This project focuses on focuses on predicting customer churn from a digital music streaming service called Sparkify. The full dataset is 12GB and consists of data about their users and their engagement with the platform. This blog post presents the approach I used for the analysis, methodology, and drawing conclusions to predict customer churn.\n",
    "\n",
    "### Problem Statement\n",
    "The goal of this project is to implement data-driven strategies to predict customer churn to improve business performance and customer experiences. Given the size of the full dataset, we will use a 128MB subset of it and perform our analysis on that using a standalone Spark framework.\n",
    "\n",
    "### Performance Metrics\n",
    "To evaluate our machine learning models, the accuracy and F1 score will be used as performance metrics. Accuracy is simply the measure of all correctly identified observations over the number of total observations. The F1 score is the harmonic mean of Precision and Recall and takes into account of class imbalances which we have in our Sparkify dataset.\n",
    "\n",
    "Due to class imbalances, accuracy may not be a good metric to optimize on because it does not take into account false positives and false negatives whereas the F1 score does take them into account. So our primary performance metric for our models will be the F1 score.\n"
   ]
  },
  {
   "cell_type": "code",
   "execution_count": 9,
   "metadata": {},
   "outputs": [],
   "source": [
    "# import libraries\n",
    "from pyspark.sql import SparkSession, Window\n",
    "from pyspark.sql.functions import col, min, max, split, udf, count\n",
    "from pyspark.sql.types import IntegerType\n",
    "\n",
    "from pyspark.ml import Pipeline\n",
    "from pyspark.ml.feature import StandardScaler, VectorAssembler, StringIndexer\n",
    "from pyspark.ml.classification import LogisticRegression, RandomForestClassifier, GBTClassifier\n",
    "from pyspark.ml.tuning import ParamGridBuilder, CrossValidator\n",
    "from pyspark.ml.evaluation import BinaryClassificationEvaluator, MulticlassClassificationEvaluator\n",
    "\n",
    "import numpy as np\n",
    "import pandas as pd\n",
    "import datetime\n",
    "from time import time\n",
    "import matplotlib.pyplot as plt\n",
    "import seaborn as sns\n",
    "%matplotlib inline"
   ]
  },
  {
   "cell_type": "code",
   "execution_count": 10,
   "metadata": {},
   "outputs": [],
   "source": [
    "# create a Spark session\n",
    "spark = SparkSession.builder \\\n",
    "    .master(\"local\") \\\n",
    "    .appName(\"Creating Features\") \\\n",
    "    .getOrCreate()"
   ]
  },
  {
   "cell_type": "markdown",
   "metadata": {},
   "source": [
    "# Load and Clean Dataset\n",
    "In this workspace, the mini-dataset file is `mini_sparkify_event_data.json`. Load and clean the dataset, checking for invalid or missing data - for example, records without userids or sessionids. "
   ]
  },
  {
   "cell_type": "code",
   "execution_count": 11,
   "metadata": {},
   "outputs": [],
   "source": [
    "#Load data into Spark\n",
    "data_path = 'mini_sparkify_event_data.json'\n",
    "df = spark.read.json(data_path)"
   ]
  },
  {
   "cell_type": "code",
   "execution_count": 12,
   "metadata": {},
   "outputs": [
    {
     "data": {
      "text/plain": [
       "[Row(artist='Martha Tilston', auth='Logged In', firstName='Colin', gender='M', itemInSession=50, lastName='Freeman', length=277.89016, level='paid', location='Bakersfield, CA', method='PUT', page='NextSong', registration=1538173362000, sessionId=29, song='Rockpools', status=200, ts=1538352117000, userAgent='Mozilla/5.0 (Windows NT 6.1; WOW64; rv:31.0) Gecko/20100101 Firefox/31.0', userId='30'),\n",
       " Row(artist='Five Iron Frenzy', auth='Logged In', firstName='Micah', gender='M', itemInSession=79, lastName='Long', length=236.09424, level='free', location='Boston-Cambridge-Newton, MA-NH', method='PUT', page='NextSong', registration=1538331630000, sessionId=8, song='Canada', status=200, ts=1538352180000, userAgent='\"Mozilla/5.0 (Windows NT 6.1; WOW64) AppleWebKit/537.36 (KHTML, like Gecko) Chrome/37.0.2062.103 Safari/537.36\"', userId='9'),\n",
       " Row(artist='Adam Lambert', auth='Logged In', firstName='Colin', gender='M', itemInSession=51, lastName='Freeman', length=282.8273, level='paid', location='Bakersfield, CA', method='PUT', page='NextSong', registration=1538173362000, sessionId=29, song='Time For Miracles', status=200, ts=1538352394000, userAgent='Mozilla/5.0 (Windows NT 6.1; WOW64; rv:31.0) Gecko/20100101 Firefox/31.0', userId='30')]"
      ]
     },
     "execution_count": 12,
     "metadata": {},
     "output_type": "execute_result"
    }
   ],
   "source": [
    "df.take(3)"
   ]
  },
  {
   "cell_type": "code",
   "execution_count": 13,
   "metadata": {},
   "outputs": [
    {
     "name": "stdout",
     "output_type": "stream",
     "text": [
      "root\n",
      " |-- artist: string (nullable = true)\n",
      " |-- auth: string (nullable = true)\n",
      " |-- firstName: string (nullable = true)\n",
      " |-- gender: string (nullable = true)\n",
      " |-- itemInSession: long (nullable = true)\n",
      " |-- lastName: string (nullable = true)\n",
      " |-- length: double (nullable = true)\n",
      " |-- level: string (nullable = true)\n",
      " |-- location: string (nullable = true)\n",
      " |-- method: string (nullable = true)\n",
      " |-- page: string (nullable = true)\n",
      " |-- registration: long (nullable = true)\n",
      " |-- sessionId: long (nullable = true)\n",
      " |-- song: string (nullable = true)\n",
      " |-- status: long (nullable = true)\n",
      " |-- ts: long (nullable = true)\n",
      " |-- userAgent: string (nullable = true)\n",
      " |-- userId: string (nullable = true)\n",
      "\n"
     ]
    }
   ],
   "source": [
    "df.printSchema()"
   ]
  },
  {
   "cell_type": "code",
   "execution_count": 14,
   "metadata": {},
   "outputs": [
    {
     "data": {
      "text/plain": [
       "[Row(artist=None, auth='Logged In', firstName='Colin', gender='M', itemInSession=54, lastName='Freeman', length=None, level='paid', location='Bakersfield, CA', method='PUT', page='Add to Playlist', registration=1538173362000, sessionId=29, song=None, status=200, ts=1538352905000, userAgent='Mozilla/5.0 (Windows NT 6.1; WOW64; rv:31.0) Gecko/20100101 Firefox/31.0', userId='30'),\n",
       " Row(artist=None, auth='Logged In', firstName='Micah', gender='M', itemInSession=84, lastName='Long', length=None, level='free', location='Boston-Cambridge-Newton, MA-NH', method='GET', page='Roll Advert', registration=1538331630000, sessionId=8, song=None, status=200, ts=1538353150000, userAgent='\"Mozilla/5.0 (Windows NT 6.1; WOW64) AppleWebKit/537.36 (KHTML, like Gecko) Chrome/37.0.2062.103 Safari/537.36\"', userId='9'),\n",
       " Row(artist=None, auth='Logged In', firstName='Micah', gender='M', itemInSession=86, lastName='Long', length=None, level='free', location='Boston-Cambridge-Newton, MA-NH', method='PUT', page='Thumbs Up', registration=1538331630000, sessionId=8, song=None, status=307, ts=1538353376000, userAgent='\"Mozilla/5.0 (Windows NT 6.1; WOW64) AppleWebKit/537.36 (KHTML, like Gecko) Chrome/37.0.2062.103 Safari/537.36\"', userId='9')]"
      ]
     },
     "execution_count": 14,
     "metadata": {},
     "output_type": "execute_result"
    }
   ],
   "source": [
    "df.filter(df['artist'].isNull()).take(3)"
   ]
  },
  {
   "cell_type": "code",
   "execution_count": 15,
   "metadata": {},
   "outputs": [
    {
     "data": {
      "text/plain": [
       "[Row(artist=None, auth='Logged Out', firstName=None, gender=None, itemInSession=100, lastName=None, length=None, level='free', location=None, method='GET', page='Home', registration=None, sessionId=8, song=None, status=200, ts=1538355745000, userAgent=None, userId=''),\n",
       " Row(artist=None, auth='Logged Out', firstName=None, gender=None, itemInSession=101, lastName=None, length=None, level='free', location=None, method='GET', page='Help', registration=None, sessionId=8, song=None, status=200, ts=1538355807000, userAgent=None, userId=''),\n",
       " Row(artist=None, auth='Logged Out', firstName=None, gender=None, itemInSession=102, lastName=None, length=None, level='free', location=None, method='GET', page='Home', registration=None, sessionId=8, song=None, status=200, ts=1538355841000, userAgent=None, userId='')]"
      ]
     },
     "execution_count": 15,
     "metadata": {},
     "output_type": "execute_result"
    }
   ],
   "source": [
    "df.filter(df['firstName'].isNull()).take(3)"
   ]
  },
  {
   "cell_type": "code",
   "execution_count": 16,
   "metadata": {},
   "outputs": [
    {
     "name": "stdout",
     "output_type": "stream",
     "text": [
      "artist 58392\n",
      "auth 0\n",
      "firstName 8346\n",
      "gender 8346\n",
      "itemInSession 0\n",
      "lastName 8346\n",
      "length 58392\n",
      "level 0\n",
      "location 8346\n",
      "method 0\n",
      "page 0\n",
      "registration 8346\n",
      "sessionId 0\n",
      "song 58392\n",
      "status 0\n",
      "ts 0\n",
      "userAgent 8346\n",
      "userId 0\n"
     ]
    }
   ],
   "source": [
    "#Count Null values in each column\n",
    "for col in df.columns:\n",
    "    print(col, df.filter(df[col].isNull()).count())"
   ]
  },
  {
   "cell_type": "markdown",
   "metadata": {},
   "source": [
    "### Investigate userId and sessionId columns"
   ]
  },
  {
   "cell_type": "code",
   "execution_count": 17,
   "metadata": {},
   "outputs": [
    {
     "data": {
      "text/plain": [
       "226"
      ]
     },
     "execution_count": 17,
     "metadata": {},
     "output_type": "execute_result"
    }
   ],
   "source": [
    "df.select(['userId']).dropDuplicates().count()"
   ]
  },
  {
   "cell_type": "code",
   "execution_count": 18,
   "metadata": {},
   "outputs": [
    {
     "name": "stdout",
     "output_type": "stream",
     "text": [
      "+------+\n",
      "|userId|\n",
      "+------+\n",
      "|      |\n",
      "|    10|\n",
      "|   100|\n",
      "|100001|\n",
      "|100002|\n",
      "+------+\n",
      "only showing top 5 rows\n",
      "\n"
     ]
    }
   ],
   "source": [
    "df.select(['userId']).dropDuplicates().orderBy(df['userId']).show(5)"
   ]
  },
  {
   "cell_type": "code",
   "execution_count": 19,
   "metadata": {},
   "outputs": [
    {
     "name": "stdout",
     "output_type": "stream",
     "text": [
      "+------+\n",
      "|userId|\n",
      "+------+\n",
      "|    99|\n",
      "|    98|\n",
      "|    97|\n",
      "|    96|\n",
      "|    95|\n",
      "+------+\n",
      "only showing top 5 rows\n",
      "\n"
     ]
    }
   ],
   "source": [
    "df.select(['userId']).dropDuplicates().orderBy(df['userId'], ascending=False).show(5)"
   ]
  },
  {
   "cell_type": "markdown",
   "metadata": {},
   "source": [
    "Looks like the first ordered userId is a blank empty string. My guess is that it is a user that hasn't logged into the system or hasn't signed up for an account on our service. We will drop these observations with empty userId values. "
   ]
  },
  {
   "cell_type": "code",
   "execution_count": 20,
   "metadata": {},
   "outputs": [
    {
     "name": "stdout",
     "output_type": "stream",
     "text": [
      "+---------+\n",
      "|sessionId|\n",
      "+---------+\n",
      "|        1|\n",
      "|        2|\n",
      "|        3|\n",
      "|        4|\n",
      "|        5|\n",
      "+---------+\n",
      "only showing top 5 rows\n",
      "\n"
     ]
    }
   ],
   "source": [
    "df.select(['sessionId']).dropDuplicates().orderBy(df['sessionId']).show(5)"
   ]
  },
  {
   "cell_type": "code",
   "execution_count": 21,
   "metadata": {},
   "outputs": [
    {
     "name": "stdout",
     "output_type": "stream",
     "text": [
      "+---------+\n",
      "|sessionId|\n",
      "+---------+\n",
      "|     2474|\n",
      "|     2464|\n",
      "|     2459|\n",
      "|     2451|\n",
      "|     2446|\n",
      "+---------+\n",
      "only showing top 5 rows\n",
      "\n"
     ]
    }
   ],
   "source": [
    "df.select(['sessionId']).dropDuplicates().orderBy(df['sessionId'], ascending=False).show(5)"
   ]
  },
  {
   "cell_type": "code",
   "execution_count": 22,
   "metadata": {},
   "outputs": [
    {
     "data": {
      "text/plain": [
       "286500"
      ]
     },
     "execution_count": 22,
     "metadata": {},
     "output_type": "execute_result"
    }
   ],
   "source": [
    "df.count()"
   ]
  },
  {
   "cell_type": "code",
   "execution_count": 23,
   "metadata": {},
   "outputs": [],
   "source": [
    "#Remove observations with null values and empty userId values\n",
    "df = df.dropna(how='any', subset=['userId', 'sessionId'])\n",
    "df = df.filter(df['userId'] != '')"
   ]
  },
  {
   "cell_type": "code",
   "execution_count": 24,
   "metadata": {},
   "outputs": [
    {
     "name": "stdout",
     "output_type": "stream",
     "text": [
      "+------+\n",
      "|userId|\n",
      "+------+\n",
      "|    10|\n",
      "|   100|\n",
      "|100001|\n",
      "|100002|\n",
      "|100003|\n",
      "+------+\n",
      "only showing top 5 rows\n",
      "\n"
     ]
    }
   ],
   "source": [
    "df.select(['userId']).dropDuplicates().orderBy(df['userId']).show(5)"
   ]
  },
  {
   "cell_type": "code",
   "execution_count": 25,
   "metadata": {},
   "outputs": [
    {
     "name": "stdout",
     "output_type": "stream",
     "text": [
      "+---------+\n",
      "|sessionId|\n",
      "+---------+\n",
      "|        1|\n",
      "|        2|\n",
      "|        3|\n",
      "|        4|\n",
      "|        5|\n",
      "+---------+\n",
      "only showing top 5 rows\n",
      "\n"
     ]
    }
   ],
   "source": [
    "df.select(['sessionId']).dropDuplicates().orderBy(df['sessionId']).show(5)"
   ]
  },
  {
   "cell_type": "code",
   "execution_count": 26,
   "metadata": {},
   "outputs": [
    {
     "data": {
      "text/plain": [
       "278154"
      ]
     },
     "execution_count": 26,
     "metadata": {},
     "output_type": "execute_result"
    }
   ],
   "source": [
    "df.count()"
   ]
  },
  {
   "cell_type": "markdown",
   "metadata": {},
   "source": [
    "# Exploratory Data Analysis\n",
    "When you're working with the full dataset, perform EDA by loading a small subset of the data and doing basic manipulations within Spark. In this workspace, you are already provided a small subset of data you can explore.\n",
    "\n",
    "### Define Churn\n",
    "\n",
    "Once you've done some preliminary analysis, create a column `Churn` to use as the label for your model. I suggest using the `Cancellation Confirmation` events to define your churn, which happen for both paid and free users. As a bonus task, you can also look into the `Downgrade` events.\n",
    "\n",
    "### Explore Data\n",
    "Once you've defined churn, perform some exploratory data analysis to observe the behavior for users who stayed vs users who churned. You can start by exploring aggregates on these two groups of users, observing how much of a specific action they experienced per a certain time unit or number of songs played."
   ]
  },
  {
   "cell_type": "code",
   "execution_count": 27,
   "metadata": {},
   "outputs": [
    {
     "name": "stdout",
     "output_type": "stream",
     "text": [
      "root\n",
      " |-- artist: string (nullable = true)\n",
      " |-- auth: string (nullable = true)\n",
      " |-- firstName: string (nullable = true)\n",
      " |-- gender: string (nullable = true)\n",
      " |-- itemInSession: long (nullable = true)\n",
      " |-- lastName: string (nullable = true)\n",
      " |-- length: double (nullable = true)\n",
      " |-- level: string (nullable = true)\n",
      " |-- location: string (nullable = true)\n",
      " |-- method: string (nullable = true)\n",
      " |-- page: string (nullable = true)\n",
      " |-- registration: long (nullable = true)\n",
      " |-- sessionId: long (nullable = true)\n",
      " |-- song: string (nullable = true)\n",
      " |-- status: long (nullable = true)\n",
      " |-- ts: long (nullable = true)\n",
      " |-- userAgent: string (nullable = true)\n",
      " |-- userId: string (nullable = true)\n",
      "\n"
     ]
    }
   ],
   "source": [
    "df.printSchema()"
   ]
  },
  {
   "cell_type": "code",
   "execution_count": 28,
   "metadata": {},
   "outputs": [
    {
     "name": "stdout",
     "output_type": "stream",
     "text": [
      "+----------------+-----+\n",
      "|          artist|count|\n",
      "+----------------+-----+\n",
      "|  The Black Keys| 1125|\n",
      "|     Silverstein|   60|\n",
      "|       Kate Nash|   99|\n",
      "|    Yann Tiersen|  139|\n",
      "|Jane's Addiction|   68|\n",
      "+----------------+-----+\n",
      "only showing top 5 rows\n",
      "\n"
     ]
    }
   ],
   "source": [
    "df.groupBy('artist').count().show(5)"
   ]
  },
  {
   "cell_type": "code",
   "execution_count": 29,
   "metadata": {},
   "outputs": [
    {
     "name": "stdout",
     "output_type": "stream",
     "text": [
      "+------+------+\n",
      "|gender| count|\n",
      "+------+------+\n",
      "|     F|154578|\n",
      "|     M|123576|\n",
      "+------+------+\n",
      "\n"
     ]
    }
   ],
   "source": [
    "df.groupBy('gender').count().show()"
   ]
  },
  {
   "cell_type": "code",
   "execution_count": 30,
   "metadata": {},
   "outputs": [
    {
     "name": "stdout",
     "output_type": "stream",
     "text": [
      "+-----+------+\n",
      "|level| count|\n",
      "+-----+------+\n",
      "| free| 55721|\n",
      "| paid|222433|\n",
      "+-----+------+\n",
      "\n"
     ]
    }
   ],
   "source": [
    "df.groupBy('level').count().show()"
   ]
  },
  {
   "cell_type": "code",
   "execution_count": 31,
   "metadata": {},
   "outputs": [
    {
     "name": "stdout",
     "output_type": "stream",
     "text": [
      "+------+------+\n",
      "|method| count|\n",
      "+------+------+\n",
      "|   PUT|257818|\n",
      "|   GET| 20336|\n",
      "+------+------+\n",
      "\n"
     ]
    }
   ],
   "source": [
    "df.groupBy('method').count().show()"
   ]
  },
  {
   "cell_type": "code",
   "execution_count": 32,
   "metadata": {},
   "outputs": [
    {
     "name": "stdout",
     "output_type": "stream",
     "text": [
      "+--------------------+------+\n",
      "|                page| count|\n",
      "+--------------------+------+\n",
      "|              Cancel|    52|\n",
      "|    Submit Downgrade|    63|\n",
      "|         Thumbs Down|  2546|\n",
      "|                Home| 10082|\n",
      "|           Downgrade|  2055|\n",
      "|         Roll Advert|  3933|\n",
      "|              Logout|  3226|\n",
      "|       Save Settings|   310|\n",
      "|Cancellation Conf...|    52|\n",
      "|               About|   495|\n",
      "|            Settings|  1514|\n",
      "|     Add to Playlist|  6526|\n",
      "|          Add Friend|  4277|\n",
      "|            NextSong|228108|\n",
      "|           Thumbs Up| 12551|\n",
      "|                Help|  1454|\n",
      "|             Upgrade|   499|\n",
      "|               Error|   252|\n",
      "|      Submit Upgrade|   159|\n",
      "+--------------------+------+\n",
      "\n"
     ]
    }
   ],
   "source": [
    "df.groupBy('page').count().show()"
   ]
  },
  {
   "cell_type": "code",
   "execution_count": 33,
   "metadata": {},
   "outputs": [
    {
     "name": "stdout",
     "output_type": "stream",
     "text": [
      "+--------------------+-----+\n",
      "|           userAgent|count|\n",
      "+--------------------+-----+\n",
      "|\"Mozilla/5.0 (Mac...|  240|\n",
      "|\"Mozilla/5.0 (Win...| 5238|\n",
      "|Mozilla/5.0 (X11;...|   62|\n",
      "|\"Mozilla/5.0 (Mac...|18448|\n",
      "|\"Mozilla/5.0 (Mac...| 1262|\n",
      "+--------------------+-----+\n",
      "only showing top 5 rows\n",
      "\n"
     ]
    }
   ],
   "source": [
    "df.groupBy('userAgent').count().show(5)"
   ]
  },
  {
   "cell_type": "code",
   "execution_count": 34,
   "metadata": {},
   "outputs": [],
   "source": [
    "#Define Churn\n",
    "churn_event = udf(lambda x: 1 if x=='Cancellation Confirmation' else 0, IntegerType())\n",
    "df = df.withColumn('churn_event', churn_event('page'))\n",
    "\n",
    "windowval = Window.partitionBy('userId')\n",
    "df = df.withColumn('churn', max('churn_event').over(windowval))"
   ]
  },
  {
   "cell_type": "code",
   "execution_count": 35,
   "metadata": {},
   "outputs": [
    {
     "name": "stdout",
     "output_type": "stream",
     "text": [
      "+------+-----+\n",
      "|userId|churn|\n",
      "+------+-----+\n",
      "|100010|    0|\n",
      "|200002|    0|\n",
      "|   125|    1|\n",
      "|   124|    0|\n",
      "|    51|    1|\n",
      "|     7|    0|\n",
      "|    15|    0|\n",
      "|    54|    1|\n",
      "|   155|    0|\n",
      "|100014|    1|\n",
      "|   132|    0|\n",
      "|   154|    0|\n",
      "|   101|    1|\n",
      "|    11|    0|\n",
      "|   138|    0|\n",
      "|300017|    0|\n",
      "|100021|    1|\n",
      "|    29|    1|\n",
      "|    69|    0|\n",
      "|   112|    0|\n",
      "+------+-----+\n",
      "only showing top 20 rows\n",
      "\n"
     ]
    }
   ],
   "source": [
    "df.select(['userId', 'churn']).dropDuplicates().show()"
   ]
  },
  {
   "cell_type": "code",
   "execution_count": 36,
   "metadata": {},
   "outputs": [
    {
     "data": {
      "image/png": "[encoded data removed]",
      "text/plain": [
       "<matplotlib.figure.Figure at 0x7f4e041bfc88>"
      ]
     },
     "metadata": {
      "needs_background": "light"
     },
     "output_type": "display_data"
    }
   ],
   "source": [
    "user_churn = udf(lambda x: 'Churn' if x==1 else 'Not Churn')\n",
    "user_churn_df = df.select(['userId', 'churn']).dropDuplicates()\\\n",
    "        .withColumn('churn', user_churn('churn'))\\\n",
    "        .toPandas()\n",
    "\n",
    "sns.countplot(x='churn', data=user_churn_df)\n",
    "plt.title('User Churn')\n",
    "plt.show()"
   ]
  },
  {
   "cell_type": "code",
   "execution_count": 37,
   "metadata": {},
   "outputs": [
    {
     "data": {
      "text/plain": [
       "Not Churn    173\n",
       "Churn         52\n",
       "Name: churn, dtype: int64"
      ]
     },
     "execution_count": 37,
     "metadata": {},
     "output_type": "execute_result"
    }
   ],
   "source": [
    "user_churn_df['churn'].value_counts()"
   ]
  },
  {
   "cell_type": "code",
   "execution_count": 38,
   "metadata": {},
   "outputs": [
    {
     "data": {
      "image/png": "[encoded data removed]",
      "text/plain": [
       "<matplotlib.figure.Figure at 0x7f4e04103630>"
      ]
     },
     "metadata": {
      "needs_background": "light"
     },
     "output_type": "display_data"
    }
   ],
   "source": [
    "gender_churn = udf(lambda x: 'Churn' if x==1 else 'Not Churn')\n",
    "gender_df = df.select(['userId', 'gender', 'churn']).dropDuplicates()\\\n",
    "        .withColumn('churn', gender_churn('churn'))\\\n",
    "        .toPandas()\n",
    "\n",
    "sns.countplot(x='gender', hue='churn', data=gender_df)\n",
    "plt.title('Churn by Gender')\n",
    "plt.show()"
   ]
  },
  {
   "cell_type": "code",
   "execution_count": 39,
   "metadata": {},
   "outputs": [
    {
     "data": {
      "image/png": "[encoded data removed]",
      "text/plain": [
       "<matplotlib.figure.Figure at 0x7f4e0403e438>"
      ]
     },
     "metadata": {
      "needs_background": "light"
     },
     "output_type": "display_data"
    }
   ],
   "source": [
    "level_churn = udf(lambda x: 'Churn' if x==1 else 'Not Churn')\n",
    "level_df = df.select(['userId', 'level', 'churn']).dropDuplicates()\\\n",
    "        .withColumn('churn', level_churn('churn'))\\\n",
    "        .toPandas()\n",
    "\n",
    "sns.countplot(x='level', hue='churn', data=level_df)\n",
    "plt.title('Churn by Level')\n",
    "plt.show()"
   ]
  },
  {
   "cell_type": "code",
   "execution_count": 40,
   "metadata": {},
   "outputs": [],
   "source": [
    "#datetime denotes 0-Monday, 6-Sunday\n",
    "weekday_func = udf(lambda x: datetime.datetime.fromtimestamp(x/1000.0).weekday(), IntegerType())\n",
    "df = df.withColumn('weekday', weekday_func(df['ts']))"
   ]
  },
  {
   "cell_type": "code",
   "execution_count": 41,
   "metadata": {},
   "outputs": [
    {
     "data": {
      "image/png": "[encoded data removed]",
      "text/plain": [
       "<matplotlib.figure.Figure at 0x7f4dfdff63c8>"
      ]
     },
     "metadata": {
      "needs_background": "light"
     },
     "output_type": "display_data"
    }
   ],
   "source": [
    "weekday_churn = udf(lambda x: 'Churn' if x==1 else 'Not Churn')\n",
    "weekday_df = df.select(['userId', 'weekday', 'churn']).dropDuplicates()\\\n",
    "        .withColumn('churn', weekday_churn('churn'))\\\n",
    "        .toPandas()\n",
    "\n",
    "plt.figure(figsize=(15,5))\n",
    "sns.countplot(x='weekday', hue='churn', data=weekday_df)\n",
    "plt.title('Churn by Weekday')\n",
    "plt.xticks(range(7), ['Monday', 'Tuesday', 'Wednesday', 'Thursday', 'Friday', 'Saturday', 'Sunday'])\n",
    "plt.show()"
   ]
  },
  {
   "cell_type": "code",
   "execution_count": 42,
   "metadata": {},
   "outputs": [
    {
     "data": {
      "image/png": "[encoded data removed]",
      "text/plain": [
       "<matplotlib.figure.Figure at 0x7f4dfdff6320>"
      ]
     },
     "metadata": {
      "needs_background": "light"
     },
     "output_type": "display_data"
    }
   ],
   "source": [
    "page_churn = udf(lambda x: 'Churn' if x==1 else 'Not Churn')\n",
    "page_df = df.select(['userId', 'page', 'churn']).dropDuplicates()\\\n",
    "        .withColumn('churn', page_churn('churn'))\\\n",
    "        .toPandas()\n",
    "\n",
    "plt.figure(figsize=(15,5))\n",
    "sns.countplot(x='page', hue='churn', data=page_df)\n",
    "plt.title('Churn by Page Visits')\n",
    "plt.xticks(rotation=90)\n",
    "plt.show()"
   ]
  },
  {
   "cell_type": "code",
   "execution_count": 43,
   "metadata": {},
   "outputs": [
    {
     "name": "stdout",
     "output_type": "stream",
     "text": [
      "+--------------------+\n",
      "|            location|\n",
      "+--------------------+\n",
      "|     Gainesville, FL|\n",
      "|Atlantic City-Ham...|\n",
      "|Deltona-Daytona B...|\n",
      "|San Diego-Carlsba...|\n",
      "|Cleveland-Elyria, OH|\n",
      "|Kingsport-Bristol...|\n",
      "|New Haven-Milford...|\n",
      "|Birmingham-Hoover...|\n",
      "|  Corpus Christi, TX|\n",
      "|         Dubuque, IA|\n",
      "|Las Vegas-Henders...|\n",
      "|Indianapolis-Carm...|\n",
      "|Seattle-Tacoma-Be...|\n",
      "|          Albany, OR|\n",
      "|   Winston-Salem, NC|\n",
      "|     Bakersfield, CA|\n",
      "|Los Angeles-Long ...|\n",
      "|Minneapolis-St. P...|\n",
      "|San Francisco-Oak...|\n",
      "|Phoenix-Mesa-Scot...|\n",
      "+--------------------+\n",
      "only showing top 20 rows\n",
      "\n"
     ]
    }
   ],
   "source": [
    "df.select(['location']).dropDuplicates().show()"
   ]
  },
  {
   "cell_type": "markdown",
   "metadata": {},
   "source": [
    "# Feature Engineering\n",
    "Once you've familiarized yourself with the data, build out the features you find promising to train your model on. To work with the full dataset, you can follow the following steps.\n",
    "- Write a script to extract the necessary features from the smaller subset of data\n",
    "- Ensure that your script is scalable, using the best practices discussed in Lesson 3\n",
    "- Try your script on the full data set, debugging your script if necessary\n",
    "\n",
    "If you are working in the classroom workspace, you can just extract features based on the small subset of data contained here. Be sure to transfer over this work to the larger dataset when you work on your Spark cluster."
   ]
  },
  {
   "cell_type": "code",
   "execution_count": 44,
   "metadata": {},
   "outputs": [
    {
     "name": "stdout",
     "output_type": "stream",
     "text": [
      "root\n",
      " |-- artist: string (nullable = true)\n",
      " |-- auth: string (nullable = true)\n",
      " |-- firstName: string (nullable = true)\n",
      " |-- gender: string (nullable = true)\n",
      " |-- itemInSession: long (nullable = true)\n",
      " |-- lastName: string (nullable = true)\n",
      " |-- length: double (nullable = true)\n",
      " |-- level: string (nullable = true)\n",
      " |-- location: string (nullable = true)\n",
      " |-- method: string (nullable = true)\n",
      " |-- page: string (nullable = true)\n",
      " |-- registration: long (nullable = true)\n",
      " |-- sessionId: long (nullable = true)\n",
      " |-- song: string (nullable = true)\n",
      " |-- status: long (nullable = true)\n",
      " |-- ts: long (nullable = true)\n",
      " |-- userAgent: string (nullable = true)\n",
      " |-- userId: string (nullable = true)\n",
      " |-- churn_event: integer (nullable = true)\n",
      " |-- churn: integer (nullable = true)\n",
      " |-- weekday: integer (nullable = true)\n",
      "\n"
     ]
    }
   ],
   "source": [
    "df.printSchema()"
   ]
  },
  {
   "cell_type": "code",
   "execution_count": 45,
   "metadata": {},
   "outputs": [
    {
     "name": "stdout",
     "output_type": "stream",
     "text": [
      "+------+------+\n",
      "|userId|gender|\n",
      "+------+------+\n",
      "|    10|     0|\n",
      "|   100|     0|\n",
      "|100001|     1|\n",
      "|100002|     1|\n",
      "|100003|     1|\n",
      "|100004|     1|\n",
      "|100005|     0|\n",
      "|100006|     1|\n",
      "|100007|     1|\n",
      "|100008|     1|\n",
      "|100009|     0|\n",
      "|100010|     1|\n",
      "|100011|     0|\n",
      "|100012|     0|\n",
      "|100013|     1|\n",
      "|100014|     0|\n",
      "|100015|     1|\n",
      "|100016|     0|\n",
      "|100017|     0|\n",
      "|100018|     0|\n",
      "+------+------+\n",
      "only showing top 20 rows\n",
      "\n"
     ]
    }
   ],
   "source": [
    "#Gender\n",
    "gender_df = df.select(['userId', 'gender'])\\\n",
    "    .dropDuplicates() \\\n",
    "    .orderBy('userId') \\\n",
    "    .replace(['M','F'], ['0', '1'], 'gender')\n",
    "\n",
    "gender_df.show()"
   ]
  },
  {
   "cell_type": "code",
   "execution_count": 46,
   "metadata": {},
   "outputs": [
    {
     "name": "stdout",
     "output_type": "stream",
     "text": [
      "+------+---------------+\n",
      "|userId|time_registered|\n",
      "+------+---------------+\n",
      "|    10|     4472293000|\n",
      "|   100|     5605094000|\n",
      "|100001|     3870739000|\n",
      "|100002|    13864787000|\n",
      "|100003|     1965437000|\n",
      "|100004|    14898823000|\n",
      "|100005|     7360899000|\n",
      "|100006|      788587000|\n",
      "|100007|     9969490000|\n",
      "|100008|     5894948000|\n",
      "|100009|     3234667000|\n",
      "|100010|     4807612000|\n",
      "|100011|      446266000|\n",
      "|100012|     3719746000|\n",
      "|100013|     3817043000|\n",
      "|100014|     7351206000|\n",
      "|100015|     5864764000|\n",
      "|100016|     6481325000|\n",
      "|100017|     6815613000|\n",
      "|100018|     9565527000|\n",
      "+------+---------------+\n",
      "only showing top 20 rows\n",
      "\n"
     ]
    }
   ],
   "source": [
    "#Time Registered\n",
    "time_registered_df = df.select('userId', 'registration', 'ts') \\\n",
    "    .withColumn('time_registered', df['ts'] - df['registration']) \\\n",
    "    .groupBy('userId') \\\n",
    "    .agg({'time_registered':'max'}) \\\n",
    "    .orderBy('userId') \\\n",
    "    .withColumnRenamed('max(time_registered)', 'time_registered')\n",
    "\n",
    "time_registered_df.show()"
   ]
  },
  {
   "cell_type": "code",
   "execution_count": 47,
   "metadata": {},
   "outputs": [
    {
     "name": "stdout",
     "output_type": "stream",
     "text": [
      "+------+-----+\n",
      "|userId|level|\n",
      "+------+-----+\n",
      "|    10|    1|\n",
      "|   100|    0|\n",
      "|   100|    1|\n",
      "|100001|    0|\n",
      "|100002|    1|\n",
      "|100003|    0|\n",
      "|100004|    1|\n",
      "|100004|    0|\n",
      "|100005|    0|\n",
      "|100006|    0|\n",
      "|100007|    1|\n",
      "|100008|    1|\n",
      "|100008|    0|\n",
      "|100009|    1|\n",
      "|100009|    0|\n",
      "|100010|    0|\n",
      "|100011|    0|\n",
      "|100012|    1|\n",
      "|100012|    0|\n",
      "|100013|    0|\n",
      "+------+-----+\n",
      "only showing top 20 rows\n",
      "\n"
     ]
    }
   ],
   "source": [
    "#Subscription level\n",
    "level_df = df.select(['userId', 'level'])\\\n",
    "    .dropDuplicates() \\\n",
    "    .orderBy('userId') \\\n",
    "    .replace(['free','paid'], ['0', '1'], 'level')\n",
    "\n",
    "level_df.show()"
   ]
  },
  {
   "cell_type": "code",
   "execution_count": 48,
   "metadata": {},
   "outputs": [
    {
     "name": "stdout",
     "output_type": "stream",
     "text": [
      "+------+-----------------+\n",
      "|userId|NumberSongsPlayed|\n",
      "+------+-----------------+\n",
      "|    10|              673|\n",
      "|   100|             2682|\n",
      "|100001|              133|\n",
      "|100002|              195|\n",
      "|100003|               51|\n",
      "|100004|              942|\n",
      "|100005|              154|\n",
      "|100006|               26|\n",
      "|100007|              423|\n",
      "|100008|              772|\n",
      "|100009|              518|\n",
      "|100010|              275|\n",
      "|100011|               11|\n",
      "|100012|              476|\n",
      "|100013|             1131|\n",
      "|100014|              257|\n",
      "|100015|              800|\n",
      "|100016|              530|\n",
      "|100017|               52|\n",
      "|100018|             1002|\n",
      "+------+-----------------+\n",
      "only showing top 20 rows\n",
      "\n"
     ]
    }
   ],
   "source": [
    "#Songs Played\n",
    "numbersongsplayed_df = df.where(df['song'] != 'null') \\\n",
    "    .groupby('userId') \\\n",
    "    .agg(count(df['song']).alias('NumberSongsPlayed')) \\\n",
    "    .orderBy('userId')\n",
    "\n",
    "numbersongsplayed_df.show()"
   ]
  },
  {
   "cell_type": "code",
   "execution_count": 49,
   "metadata": {},
   "outputs": [
    {
     "name": "stdout",
     "output_type": "stream",
     "text": [
      "+------+------------------+\n",
      "|userId|    listening_time|\n",
      "+------+------------------+\n",
      "|    10|166866.37251000004|\n",
      "|   100|  672877.856590001|\n",
      "|100001|35073.742150000005|\n",
      "|100002| 49559.91809999999|\n",
      "|100003|12306.419320000003|\n",
      "|100004|231480.38928999988|\n",
      "|100005| 37037.12201000001|\n",
      "|100006|        5854.89105|\n",
      "|100007|104495.32492000007|\n",
      "|100008|191396.79601999995|\n",
      "|100009|129745.78967999991|\n",
      "|100010| 66940.89735000003|\n",
      "|100011|         2841.6995|\n",
      "|100012|115503.35311000001|\n",
      "|100013|280391.79410999996|\n",
      "|100014| 67703.47208000004|\n",
      "|100015|194617.91655000017|\n",
      "|100016| 129376.7523399999|\n",
      "|100017|12261.723399999999|\n",
      "|100018|248530.32762999993|\n",
      "+------+------------------+\n",
      "only showing top 20 rows\n",
      "\n"
     ]
    }
   ],
   "source": [
    "#Listening Time\n",
    "listening_time_df = df.select(['userId', 'length']) \\\n",
    "    .groupBy('userId') \\\n",
    "    .sum() \\\n",
    "    .withColumnRenamed('sum(length)', 'listening_time') \\\n",
    "    .orderBy('userId')\n",
    "\n",
    "listening_time_df.show()"
   ]
  },
  {
   "cell_type": "code",
   "execution_count": 50,
   "metadata": {},
   "outputs": [
    {
     "name": "stdout",
     "output_type": "stream",
     "text": [
      "+------+-------------+\n",
      "|userId|playlist_adds|\n",
      "+------+-------------+\n",
      "|    10|            9|\n",
      "|   100|           61|\n",
      "|100001|            3|\n",
      "|100002|            5|\n",
      "|100003|            2|\n",
      "|100004|           23|\n",
      "|100005|            3|\n",
      "|100006|            1|\n",
      "|100007|            9|\n",
      "|100008|           30|\n",
      "|100009|           12|\n",
      "|100010|            7|\n",
      "|100011|            2|\n",
      "|100012|           12|\n",
      "|100013|           31|\n",
      "|100014|            7|\n",
      "|100015|           22|\n",
      "|100016|            6|\n",
      "|100017|            1|\n",
      "|100018|           31|\n",
      "+------+-------------+\n",
      "only showing top 20 rows\n",
      "\n"
     ]
    }
   ],
   "source": [
    "#Playlist Adds\n",
    "playlist_adds_df = df.select(['userId', 'page']) \\\n",
    "    .where(df['page'] == 'Add to Playlist') \\\n",
    "    .groupBy('userId') \\\n",
    "    .count() \\\n",
    "    .withColumnRenamed('count', 'playlist_adds') \\\n",
    "    .orderBy('userId')\n",
    "\n",
    "playlist_adds_df.show()"
   ]
  },
  {
   "cell_type": "code",
   "execution_count": 51,
   "metadata": {},
   "outputs": [
    {
     "name": "stdout",
     "output_type": "stream",
     "text": [
      "+------+---------+\n",
      "|userId|thumbs_up|\n",
      "+------+---------+\n",
      "|    10|       37|\n",
      "|   100|      148|\n",
      "|100001|        8|\n",
      "|100002|        5|\n",
      "|100003|        3|\n",
      "|100004|       35|\n",
      "|100005|        7|\n",
      "|100006|        2|\n",
      "|100007|       19|\n",
      "|100008|       37|\n",
      "|100009|       23|\n",
      "|100010|       17|\n",
      "|100012|       18|\n",
      "|100013|       39|\n",
      "|100014|       17|\n",
      "|100015|       35|\n",
      "|100016|       25|\n",
      "|100017|        2|\n",
      "|100018|       46|\n",
      "|100019|        1|\n",
      "+------+---------+\n",
      "only showing top 20 rows\n",
      "\n"
     ]
    }
   ],
   "source": [
    "#User Thumbs Up\n",
    "thumbs_up_df = df.select(['userId','page']) \\\n",
    "    .where(df['page'] == 'Thumbs Up') \\\n",
    "    .groupBy('userId') \\\n",
    "    .count() \\\n",
    "    .withColumnRenamed('count', 'thumbs_up') \\\n",
    "    .orderBy('userId')\n",
    "\n",
    "thumbs_up_df.show()"
   ]
  },
  {
   "cell_type": "code",
   "execution_count": 52,
   "metadata": {
    "scrolled": false
   },
   "outputs": [
    {
     "name": "stdout",
     "output_type": "stream",
     "text": [
      "+------+-----------+\n",
      "|userId|thumbs_down|\n",
      "+------+-----------+\n",
      "|    10|          4|\n",
      "|   100|         27|\n",
      "|100001|          2|\n",
      "|100004|         11|\n",
      "|100005|          3|\n",
      "|100006|          2|\n",
      "|100007|          6|\n",
      "|100008|          6|\n",
      "|100009|          8|\n",
      "|100010|          5|\n",
      "|100011|          1|\n",
      "|100012|          9|\n",
      "|100013|         15|\n",
      "|100014|          3|\n",
      "|100015|          8|\n",
      "|100016|          5|\n",
      "|100017|          1|\n",
      "|100018|          9|\n",
      "|100019|          1|\n",
      "|100021|          5|\n",
      "+------+-----------+\n",
      "only showing top 20 rows\n",
      "\n"
     ]
    }
   ],
   "source": [
    "#User Thumbs Down\n",
    "thumbs_down_df = df.select(['userId','page'])\\\n",
    "    .where(df['page'] == 'Thumbs Down')\\\n",
    "    .groupBy('userId')\\\n",
    "    .count()\\\n",
    "    .withColumnRenamed('count', 'thumbs_down')\\\n",
    "    .orderBy('userId')\n",
    "\n",
    "thumbs_down_df.show()"
   ]
  },
  {
   "cell_type": "code",
   "execution_count": 53,
   "metadata": {},
   "outputs": [],
   "source": [
    "feature_df = df.dropDuplicates(['userId'])\\\n",
    "    .sort('userId')\\\n",
    "    .select(['userId', 'churn'])\n",
    "\n",
    "features = [gender_df, time_registered_df, level_df, numbersongsplayed_df, listening_time_df, playlist_adds_df, thumbs_up_df, thumbs_down_df]\n",
    "for feature in features:\n",
    "    feature_df = feature_df.join(feature, on='userId')"
   ]
  },
  {
   "cell_type": "code",
   "execution_count": 54,
   "metadata": {},
   "outputs": [
    {
     "name": "stdout",
     "output_type": "stream",
     "text": [
      "+------+-----+------+---------------+-----+-----------------+------------------+-------------+---------+-----------+\n",
      "|userId|churn|gender|time_registered|level|NumberSongsPlayed|    listening_time|playlist_adds|thumbs_up|thumbs_down|\n",
      "+------+-----+------+---------------+-----+-----------------+------------------+-------------+---------+-----------+\n",
      "|100010|    0|     1|     4807612000|    0|              275| 66940.89735000003|            7|       17|          5|\n",
      "|200002|    0|     0|     6054448000|    0|              387| 94008.87593999993|            8|       21|          6|\n",
      "|200002|    0|     0|     6054448000|    1|              387| 94008.87593999993|            8|       21|          6|\n",
      "|   124|    0|     1|    11366431000|    1|             4079|1012312.0927899999|          118|      171|         41|\n",
      "|    51|    1|     0|     1680985000|    1|             2111| 523275.8428000004|           52|      100|         21|\n",
      "|     7|    0|     0|     6288035000|    0|              150| 38034.08710000002|            5|        7|          1|\n",
      "|    15|    0|     0|     4882773000|    1|             1914|477307.60581000015|           59|       81|         14|\n",
      "|    54|    1|     1|     9568946000|    0|             2841| 711344.9195400011|           72|      163|         29|\n",
      "|    54|    1|     1|     9568946000|    1|             2841| 711344.9195400011|           72|      163|         29|\n",
      "|   155|    0|     1|     2035240000|    0|              820|       198779.2919|           24|       58|          3|\n",
      "|   155|    0|     1|     2035240000|    1|              820|       198779.2919|           24|       58|          3|\n",
      "|100014|    1|     0|     7351206000|    1|              257| 67703.47208000004|            7|       17|          3|\n",
      "|   132|    0|     1|     5779219000|    0|             1928| 483118.9038399997|           38|       96|         17|\n",
      "|   132|    0|     1|     5779219000|    1|             1928| 483118.9038399997|           38|       96|         17|\n",
      "|   101|    1|     0|     4662657000|    0|             1797| 447464.0146699989|           61|       86|         16|\n",
      "|   101|    1|     0|     4662657000|    1|             1797| 447464.0146699989|           61|       86|         16|\n",
      "|    11|    0|     1|    10754921000|    0|              647|159669.96303999983|           20|       40|          9|\n",
      "|    11|    0|     1|    10754921000|    1|              647|159669.96303999983|           20|       40|          9|\n",
      "|   138|    0|     0|     5756546000|    0|             2070| 512449.8827599989|           67|       95|         24|\n",
      "|   138|    0|     0|     5756546000|    1|             2070| 512449.8827599989|           67|       95|         24|\n",
      "+------+-----+------+---------------+-----+-----------------+------------------+-------------+---------+-----------+\n",
      "only showing top 20 rows\n",
      "\n"
     ]
    }
   ],
   "source": [
    "feature_df.show()"
   ]
  },
  {
   "cell_type": "code",
   "execution_count": 55,
   "metadata": {},
   "outputs": [],
   "source": [
    "for feature in feature_df.columns[1:]:\n",
    "    feature_df = feature_df.withColumn(feature, feature_df[feature].cast('float'))"
   ]
  },
  {
   "cell_type": "code",
   "execution_count": 56,
   "metadata": {},
   "outputs": [
    {
     "data": {
      "text/plain": [
       "[('userId', 'string'),\n",
       " ('churn', 'float'),\n",
       " ('gender', 'float'),\n",
       " ('time_registered', 'float'),\n",
       " ('level', 'float'),\n",
       " ('NumberSongsPlayed', 'float'),\n",
       " ('listening_time', 'float'),\n",
       " ('playlist_adds', 'float'),\n",
       " ('thumbs_up', 'float'),\n",
       " ('thumbs_down', 'float')]"
      ]
     },
     "execution_count": 56,
     "metadata": {},
     "output_type": "execute_result"
    }
   ],
   "source": [
    "feature_df.dtypes"
   ]
  },
  {
   "cell_type": "code",
   "execution_count": 57,
   "metadata": {},
   "outputs": [
    {
     "data": {
      "text/plain": [
       "['userId',\n",
       " 'churn',\n",
       " 'gender',\n",
       " 'time_registered',\n",
       " 'level',\n",
       " 'NumberSongsPlayed',\n",
       " 'listening_time',\n",
       " 'playlist_adds',\n",
       " 'thumbs_up',\n",
       " 'thumbs_down']"
      ]
     },
     "execution_count": 57,
     "metadata": {},
     "output_type": "execute_result"
    }
   ],
   "source": [
    "feature_df.columns"
   ]
  },
  {
   "cell_type": "markdown",
   "metadata": {},
   "source": [
    "# Modeling\n",
    "Split the full dataset into train, test, and validation sets. Test out several of the machine learning methods you learned. Evaluate the accuracy of the various models, tuning parameters as necessary. Determine your winning model based on test accuracy and report results on the validation set. Since the churned users are a fairly small subset, I suggest using F1 score as the metric to optimize.\n",
    "\n",
    "We apply three different classification models:\n",
    "* Logistic Regression\n",
    "* Random Forest Classifier\n",
    "* XBTClassifier"
   ]
  },
  {
   "cell_type": "code",
   "execution_count": 113,
   "metadata": {},
   "outputs": [],
   "source": [
    "train, test = feature_df.randomSplit([0.8, 0.2], seed=8)\n",
    "#validation, test = test.randomSplit([0.5, 0.5], seed=8)"
   ]
  },
  {
   "cell_type": "markdown",
   "metadata": {},
   "source": [
    "#### Logistic Regression"
   ]
  },
  {
   "cell_type": "code",
   "execution_count": 114,
   "metadata": {},
   "outputs": [],
   "source": [
    "feature_cols = ['gender', 'time_registered', 'level', 'NumberSongsPlayed',\n",
    " 'listening_time', 'playlist_adds', 'thumbs_up', 'thumbs_down']\n",
    "assembler = VectorAssembler(inputCols= feature_cols, outputCol='feature_assembler')\n",
    "scaler = StandardScaler(inputCol='feature_assembler', outputCol='features')\n",
    "indexer = StringIndexer(inputCol='churn', outputCol='label')"
   ]
  },
  {
   "cell_type": "code",
   "execution_count": 52,
   "metadata": {},
   "outputs": [],
   "source": [
    "logreg = LogisticRegression(maxIter=10)\n",
    "\n",
    "pipeline_logreg = Pipeline(stages=[assembler, scaler, indexer, logreg])\n",
    "\n",
    "paramgrid_logreg = ParamGridBuilder()\\\n",
    "    .addGrid(logreg.regParam, [0.00, 0.05, 0.1])\\\n",
    "    .build()\n",
    "\n",
    "crossval_logreg = CrossValidator(estimator= pipeline_logreg,\n",
    "                                estimatorParamMaps= paramgrid_logreg,\n",
    "                                evaluator=MulticlassClassificationEvaluator(),\n",
    "                                numFolds=3)"
   ]
  },
  {
   "cell_type": "code",
   "execution_count": 53,
   "metadata": {},
   "outputs": [
    {
     "name": "stdout",
     "output_type": "stream",
     "text": [
      "Training time in seconds: 865.412047624588\n"
     ]
    }
   ],
   "source": [
    "start_time = time()\n",
    "logreg_cv = crossval_logreg.fit(train)\n",
    "end_time = time()\n",
    "print(\"Training time in seconds:\", end_time - start_time)\n",
    "#training takes roughly 850 seconds/13minutes"
   ]
  },
  {
   "cell_type": "code",
   "execution_count": 54,
   "metadata": {},
   "outputs": [],
   "source": [
    "logreg_test_preds = logreg_cv.transform(test)"
   ]
  },
  {
   "cell_type": "code",
   "execution_count": 55,
   "metadata": {},
   "outputs": [
    {
     "name": "stdout",
     "output_type": "stream",
     "text": [
      "Logistic Regression Metrics\n",
      "Accuracy: 0.7246376811594203\n",
      "Precision: 0.7539682539682541\n",
      "Recall: 0.7246376811594203\n",
      "F1: 0.6654012443319625\n"
     ]
    }
   ],
   "source": [
    "print(\"Logistic Regression Metrics\")\n",
    "print(\"Accuracy:\", MulticlassClassificationEvaluator(metricName='accuracy').evaluate(logreg_test_preds))\n",
    "print(\"Precision:\", MulticlassClassificationEvaluator(metricName='weightedPrecision').evaluate(logreg_test_preds))\n",
    "print(\"Recall:\", MulticlassClassificationEvaluator(metricName='weightedRecall').evaluate(logreg_test_preds))\n",
    "print(\"F1:\", MulticlassClassificationEvaluator(metricName='f1').evaluate(logreg_test_preds))"
   ]
  },
  {
   "cell_type": "markdown",
   "metadata": {},
   "source": [
    "#### Random Forest"
   ]
  },
  {
   "cell_type": "code",
   "execution_count": 56,
   "metadata": {},
   "outputs": [],
   "source": [
    "rf = RandomForestClassifier()\n",
    "\n",
    "pipeline_rf = Pipeline(stages=[assembler, scaler, indexer, rf])\n",
    "\n",
    "paramgrid_rf = ParamGridBuilder()\\\n",
    "    .addGrid(rf.numTrees, [10,20,30])\\\n",
    "    .build()\n",
    "\n",
    "crossval_rf = CrossValidator(estimator= pipeline_rf,\n",
    "                                estimatorParamMaps= paramgrid_rf,\n",
    "                                evaluator=MulticlassClassificationEvaluator(),\n",
    "                                numFolds=3)"
   ]
  },
  {
   "cell_type": "code",
   "execution_count": 57,
   "metadata": {},
   "outputs": [
    {
     "name": "stdout",
     "output_type": "stream",
     "text": [
      "Training time in seconds: 895.7618746757507\n"
     ]
    }
   ],
   "source": [
    "start_time = time()\n",
    "rf_cv = crossval_rf.fit(train)\n",
    "end_time = time()\n",
    "print(\"Training time in seconds:\", end_time - start_time)\n",
    "#training takes roughly around 880 seconds/14 minutes"
   ]
  },
  {
   "cell_type": "code",
   "execution_count": 58,
   "metadata": {},
   "outputs": [],
   "source": [
    "rf_test_preds = rf_cv.transform(test)"
   ]
  },
  {
   "cell_type": "code",
   "execution_count": 59,
   "metadata": {},
   "outputs": [
    {
     "name": "stdout",
     "output_type": "stream",
     "text": [
      "Random Forest Metrics\n",
      "Accuracy: 0.7971014492753623\n",
      "Precision: 0.8058608058608058\n",
      "Recall: 0.7971014492753623\n",
      "F1: 0.7788671023965141\n"
     ]
    }
   ],
   "source": [
    "print(\"Random Forest Metrics\")\n",
    "print(\"Accuracy:\", MulticlassClassificationEvaluator(metricName='accuracy').evaluate(rf_test_preds))\n",
    "print(\"Precision:\", MulticlassClassificationEvaluator(metricName='weightedPrecision').evaluate(rf_test_preds))\n",
    "print(\"Recall:\", MulticlassClassificationEvaluator(metricName='weightedRecall').evaluate(rf_test_preds))\n",
    "print(\"F1:\", MulticlassClassificationEvaluator(metricName='f1').evaluate(rf_test_preds))"
   ]
  },
  {
   "cell_type": "markdown",
   "metadata": {},
   "source": [
    "#### Gradient Boosting Trees"
   ]
  },
  {
   "cell_type": "code",
   "execution_count": 115,
   "metadata": {},
   "outputs": [],
   "source": [
    "gbt = GBTClassifier(maxIter=10)\n",
    "\n",
    "pipeline_gbt = Pipeline(stages=[assembler, scaler, indexer, gbt])\n",
    "\n",
    "paramgrid_gbt = ParamGridBuilder()\\\n",
    "    .addGrid(gbt.maxDepth, [5, 10])\\\n",
    "    .build()\n",
    "\n",
    "crossval_gbt = CrossValidator(estimator= pipeline_gbt,\n",
    "                                estimatorParamMaps= paramgrid_gbt,\n",
    "                                evaluator=MulticlassClassificationEvaluator(),\n",
    "                                numFolds=3)"
   ]
  },
  {
   "cell_type": "code",
   "execution_count": 116,
   "metadata": {},
   "outputs": [
    {
     "name": "stdout",
     "output_type": "stream",
     "text": [
      "Training time in seconds: 1743.210288286209\n"
     ]
    }
   ],
   "source": [
    "start_time = time()\n",
    "gbt_cv = crossval_gbt.fit(train)\n",
    "end_time = time()\n",
    "print(\"Training time in seconds:\", end_time - start_time)\n",
    "#training time took ~1750 seconds/28minutes"
   ]
  },
  {
   "cell_type": "code",
   "execution_count": 117,
   "metadata": {},
   "outputs": [],
   "source": [
    "gbt_test_preds = gbt_cv.transform(test)"
   ]
  },
  {
   "cell_type": "code",
   "execution_count": 118,
   "metadata": {},
   "outputs": [
    {
     "name": "stdout",
     "output_type": "stream",
     "text": [
      "GBT Metrics\n",
      "Accuracy: 0.8115942028985508\n",
      "Precision: 0.8117138364779874\n",
      "Recall: 0.8115942028985507\n",
      "F1: 0.8013468013468015\n"
     ]
    }
   ],
   "source": [
    "print(\"GBT Metrics\")\n",
    "print(\"Accuracy:\", MulticlassClassificationEvaluator(metricName='accuracy').evaluate(gbt_test_preds))\n",
    "print(\"Precision:\", MulticlassClassificationEvaluator(metricName='weightedPrecision').evaluate(gbt_test_preds))\n",
    "print(\"Recall:\", MulticlassClassificationEvaluator(metricName='weightedRecall').evaluate(gbt_test_preds))\n",
    "print(\"F1:\", MulticlassClassificationEvaluator(metricName='f1').evaluate(gbt_test_preds))"
   ]
  },
  {
   "cell_type": "markdown",
   "metadata": {},
   "source": [
    "#### Best Model"
   ]
  },
  {
   "cell_type": "code",
   "execution_count": 119,
   "metadata": {},
   "outputs": [
    {
     "data": {
      "text/plain": [
       "GBTClassificationModel (uid=GBTClassifier_db1c625d6888) with 10 trees"
      ]
     },
     "execution_count": 119,
     "metadata": {},
     "output_type": "execute_result"
    }
   ],
   "source": [
    "gbt_cv.bestModel.stages[-1]"
   ]
  },
  {
   "cell_type": "code",
   "execution_count": 120,
   "metadata": {},
   "outputs": [
    {
     "data": {
      "text/plain": [
       "array([ 0.00793723,  0.39450263,  0.00124895,  0.14718251,  0.01071992,\n",
       "        0.14299351,  0.07859218,  0.21682307])"
      ]
     },
     "execution_count": 120,
     "metadata": {},
     "output_type": "execute_result"
    }
   ],
   "source": [
    "gbt_cv.bestModel.stages[-1].featureImportances.values"
   ]
  },
  {
   "cell_type": "code",
   "execution_count": 121,
   "metadata": {},
   "outputs": [
    {
     "data": {
      "text/plain": [
       "['userId',\n",
       " 'churn',\n",
       " 'gender',\n",
       " 'time_registered',\n",
       " 'level',\n",
       " 'NumberSongsPlayed',\n",
       " 'listening_time',\n",
       " 'playlist_adds',\n",
       " 'thumbs_up',\n",
       " 'thumbs_down']"
      ]
     },
     "execution_count": 121,
     "metadata": {},
     "output_type": "execute_result"
    }
   ],
   "source": [
    "train.columns"
   ]
  },
  {
   "cell_type": "code",
   "execution_count": 122,
   "metadata": {},
   "outputs": [
    {
     "data": {
      "image/png": "[encoded data removed]",
      "text/plain": [
       "<matplotlib.figure.Figure at 0x7fe27885fb70>"
      ]
     },
     "metadata": {
      "needs_background": "light"
     },
     "output_type": "display_data"
    }
   ],
   "source": [
    "features = train.columns[2:]\n",
    "featureimportances = gbt_cv.bestModel.stages[-1].featureImportances.values\n",
    "\n",
    "sns.barplot(x=features, y=featureimportances)\n",
    "plt.xticks(rotation=90)\n",
    "plt.show()"
   ]
  },
  {
   "cell_type": "markdown",
   "metadata": {},
   "source": [
    "Looking at the feature importances of our best gradient boosting model, we see that the time registered played the most important role in predicting user churn."
   ]
  },
  {
   "cell_type": "markdown",
   "metadata": {},
   "source": [
    "### Conclusion\n",
    "The goal of this project was to implement data-driven strategies to predict customer churn from the digital music streaming service Sparkify. By understanding the behavior of their customers, Sparkify can make changes to their platform to increase their business performance and figure out ways to improve customer experiences. By implementing the logistic regression, random forest, and gradient boosting machine learning models, we were able to predict whether or not a user would churn.\n",
    "\n",
    "Using our best model, the gradient boosting classifier, we visualized the importance of each of the features to see which features played the largest factors for predicting a user will churn. It was very interesting to see that the most important features to predict user churn was the amount of time the user was registered as well as user engagement features like the amount of times they thumbs up or thumbs down, or the amount of songs they have added on their playlists. Perhaps, the more a user did a thumbs down the higher chance they were likely to churn and leave the platform. It was also interesting that gender or the subscription level did not play a larger role in the model’s predictive importance."
   ]
  },
  {
   "cell_type": "code",
   "execution_count": null,
   "metadata": {},
   "outputs": [],
   "source": []
  }
 ],
 "metadata": {
  "kernelspec": {
   "display_name": "Python 3",
   "language": "python",
   "name": "python3"
  },
  "language_info": {
   "codemirror_mode": {
    "name": "ipython",
    "version": 3
   },
   "file_extension": ".py",
   "mimetype": "text/x-python",
   "name": "python",
   "nbconvert_exporter": "python",
   "pygments_lexer": "ipython3",
   "version": "3.6.3"
  }
 },
 "nbformat": 4,
 "nbformat_minor": 2
}
